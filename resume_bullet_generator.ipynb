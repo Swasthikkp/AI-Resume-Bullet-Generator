{
 "cells": [
  {
   "cell_type": "markdown",
   "id": "9d4b062f",
   "metadata": {},
   "source": [
    "# AI Resume Bullet Generator — Mini Project\n",
    "This notebook documents prompt-engineering attempts to generate concise resume bullets tailored to job descriptions. It's a fresher-level, human project showing iteration and results."
   ]
  },
  {
   "cell_type": "markdown",
   "id": "8e74f130",
   "metadata": {},
   "source": [
    "## 1) Problem\n",
    "Create 2–3 tailored resume bullets from a job description + candidate info. Keep outputs honest and editable."
   ]
  },
  {
   "cell_type": "markdown",
   "id": "e4069547",
   "metadata": {},
   "source": [
    "## 0) Intentionally Bad Attempt\n",
    "First try was too vague and generic:\n",
    "```\n",
    "- Worked on some data tasks.\n",
    "- Helped in projects.\n",
    "- Did analysis with tools.\n",
    "```\n",
    "This shows the need for clearer prompts and refinement."
   ]
  },
  {
   "cell_type": "markdown",
   "id": "40b1b1e7",
   "metadata": {},
   "source": [
    "## 2) Attempt 1 — Base Prompt (too generic)\n",
    "**Prompt:** See `prompts/base_prompt.txt`. Result: generic bullets lacking impact. Noted issues below."
   ]
  },
  {
   "cell_type": "code",
   "execution_count": null,
   "id": "afef10d2",
   "metadata": {},
   "outputs": [],
   "source": [
    "import random\n",
    "\n",
    "def generate_bullets_mock(job_desc, candidate_info, style='base'):\n",
    "    candidates = [\n",
    "        \"- Cleaned datasets and ran basic analyses using Python.\",\n",
    "        \"- Created charts in Excel to show trends.\",\n",
    "        \"- Wrote SQL queries to pull data from tables.\",\n",
    "    ]\n",
    "    random.shuffle(candidates)\n",
    "    n = 2 if random.random() < 0.5 else 3\n",
    "    return \"\\n\".join(candidates[:n])\n",
    "\n",
    "job = open('examples/job_description.txt').read()\n",
    "info = open('examples/candidate_info.txt').read()\n",
    "print('--- Mock Output (Attempt 1) ---')\n",
    "print(generate_bullets_mock(job, info))"
   ]
  },
  {
   "cell_type": "markdown",
   "id": "9213fb8e",
   "metadata": {},
   "source": [
    "## 3) Attempt 2 — Refined Prompt\n",
    "**Refinements:** include role, action verb, tool, and impact. See `prompts/refined_prompt.txt`. Result below (mocked)."
   ]
  },
  {
   "cell_type": "code",
   "execution_count": null,
   "id": "8fb7261b",
   "metadata": {},
   "outputs": [],
   "source": [
    "def generate_bullets_refined(job_desc, candidate_info):\n",
    "    return (\n",
    "        \"- Processed and cleaned large Zomato and housing datasets using Python and Pandas to enable analysis.\\n\"\n",
    "        \"- Built Excel PivotTables and Power BI visuals to identify cost hotspots and trends for stakeholders.\\n\"\n",
    "        \"- Wrote SQL queries to aggregate location-wise metrics and supported dashboard reporting.\"\n",
    "    )\n",
    "\n",
    "print('--- Mock Output (Attempt 2 — Refined) ---')\n",
    "print(generate_bullets_refined(job, info))"
   ]
  },
  {
   "cell_type": "markdown",
   "id": "f1a3056a",
   "metadata": {},
   "source": [
    "## 4) Notes & Limitations\n",
    "- The tool is a prompt-engineering demo; outputs require human editing.\n",
    "- Avoid adding numbers unless the candidate provides them.\n",
    "- Future work: connect to an LLM API, add UI, and include controlled templates for different roles."
   ]
  },
  {
   "cell_type": "markdown",
   "id": "3c2020f2",
   "metadata": {},
   "source": [
    "## Files in this repo\n",
    "- `prompts/` — prompt templates and refinement notes\n",
    "- `examples/` — sample job description & candidate info\n",
    "- `outputs/` — sample generated bullets\n",
    "- `resume_bullet_generator.ipynb` — this notebook documenting attempts"
   ]
  }
 ],
 "metadata": {},
 "nbformat": 4,
 "nbformat_minor": 5
}
